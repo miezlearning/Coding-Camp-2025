{
  "nbformat": 4,
  "nbformat_minor": 0,
  "metadata": {
    "colab": {
      "provenance": [],
      "gpuType": "T4"
    },
    "kernelspec": {
      "name": "python3",
      "display_name": "Python 3"
    },
    "language_info": {
      "name": "python"
    },
    "accelerator": "GPU"
  },
  "cells": [
    {
      "cell_type": "markdown",
      "source": [
        "# Laporan Proyek Machine Learning Terapan - Muhammad Alif <br>\n",
        "# Sistem Rekomendasi Film"
      ],
      "metadata": {
        "id": "-l-OAOyXRW16"
      }
    },
    {
      "cell_type": "markdown",
      "source": [
        "# Project Overview\n",
        "\n",
        "Proyek ini bertujuan untuk membangun sistem rekomendasi film yang dapat memberikan saran film yang dipersonalisasi kepada pengguna. Di era digital dengan melimpahnya pilihan konten, sistem rekomendasi menjadi krusial untuk membantu pengguna menemukan film yang sesuai dengan selera mereka, sekaligus meningkatkan engagement pada platform penyedia film. Proyek ini akan mengeksplorasi dua pendekatan utama dalam sistem rekomendasi: Content-Based Filtering dan Collaborative Filtering."
      ],
      "metadata": {
        "id": "vy1UNuLvRaqL"
      }
    },
    {
      "cell_type": "markdown",
      "source": [
        "# Business Understanding\n",
        "\n",
        "### Problem Statements\n",
        " 1. Bagaimana cara memberikan rekomendasi film yang relevan dan dipersonalisasi kepada pengguna dari katalog film yang besar?\n",
        " 2. Bagaimana cara memanfaatkan data rating dan tag yang diberikan pengguna untuk meningkatkan kualitas rekomendasi?\n",
        " 3. Pendekatan sistem rekomendasi manakah (Content-Based atau Collaborative Filtering) yang lebih cocok atau memberikan hasil yang berbeda untuk dataset yang digunakan?\n",
        "\n",
        "### Goals\n",
        " 1. Mengembangkan model Content-Based Filtering yang merekomendasikan film berdasarkan kemiripan konten (genre dan tag).\n",
        " 2. Mengembangkan model Collaborative Filtering (menggunakan SVD) yang merekomendasikan film berdasarkan pola rating pengguna.\n",
        " 3. Mengevaluasi kedua model menggunakan metrik yang sesuai dan menyajikan Top-N rekomendasi dari masing-masing model.\n",
        "\n",
        "### Solution Approach\n",
        " 1. **Content-Based Filtering:**\n",
        "    - Algoritma: TF-IDF untuk ekstraksi fitur dari teks (genre dan tag), kemudian Cosine Similarity untuk mengukur kemiripan antar film.\n",
        "    - Cara Kerja: Merekomendasikan film yang memiliki atribut konten serupa dengan film yang disukai pengguna.\n",
        " 2. **Collaborative Filtering:**\n",
        "    - Algoritma: Singular Value Decomposition (SVD) dari library Surprise.\n",
        "    - Cara Kerja: Merekomendasikan film berdasarkan prediksi rating yang mungkin diberikan pengguna terhadap film yang belum ditonton, berdasarkan pola rating dari pengguna lain yang memiliki selera serupa."
      ],
      "metadata": {
        "id": "Sqnrgm2YRroa"
      }
    },
    {
      "cell_type": "markdown",
      "source": [
        "# Impor library yang dibutuhkan"
      ],
      "metadata": {
        "id": "oUpcl0kaR3IH"
      }
    },
    {
      "cell_type": "code",
      "source": [
        "# 1. Uninstall numpy dan scikit-surprise untuk memastikan instalasi bersih dengan versi yang diinginkan.\n",
        "#    Ini membantu menghindari sisa-sisa dari instalasi sebelumnya yang mungkin menyebabkan konflik.\n",
        "!pip uninstall -y numpy scikit-surprise\n",
        "\n",
        "# 2. Instal versi NumPy yang kompatibel.\n",
        "#    TensorFlow 2.18.0 (umum di Colab) biasanya memerlukan numpy < 2.1.0 dan >= 1.26.0.\n",
        "#    scikit-surprise 1.1.4 (versi yang kamu instal) memerlukan numpy >= 1.19.5.\n",
        "#    Jadi, numpy versi 1.26.x (misalnya 1.26.4) adalah target yang baik.\n",
        "!pip install numpy==1.26.4\n",
        "\n",
        "# 3. Instal scikit-surprise (versi 1.1.4 yang kamu gunakan).\n",
        "#    Ini akan menggunakan NumPy 1.26.4 yang sudah terinstal.\n",
        "!pip install scikit-surprise==1.1.4\n",
        "\n",
        "# 4. (Opsional, tapi bisa membantu) Pastikan TensorFlow juga menggunakan NumPy yang kompatibel.\n",
        "#    Biasanya, jika NumPy sudah diset ke 1.26.4, TensorFlow akan baik-baik saja.\n",
        "#    Jika kamu ingin lebih eksplisit:\n",
        "#    !pip install tensorflow --upgrade # Ini akan mencoba mencocokkan dengan NumPy yang ada jika memungkinkan\n",
        "\n",
        "print(\"=\"*50)\n",
        "print(\"INSTALASI SELESAI. SEKARANG PENTING SEKALI:\")\n",
        "print(\"!!! RESTART RUNTIME COLAB ANDA !!!\")\n",
        "print(\"Caranya: Pergi ke menu 'Runtime' -> 'Restart session...' atau 'Restart runtime...'\")\n",
        "print(\"Setelah restart, jalankan cell berikutnya yang berisi impor library.\")\n",
        "print(\"=\"*50)"
      ],
      "metadata": {
        "colab": {
          "base_uri": "https://localhost:8080/"
        },
        "id": "xwNM8__5WSVG",
        "outputId": "b7c2377c-b731-4ed9-da2e-d0f00db8ce3b"
      },
      "execution_count": 4,
      "outputs": [
        {
          "output_type": "stream",
          "name": "stdout",
          "text": [
            "Found existing installation: numpy 1.26.4\n",
            "Uninstalling numpy-1.26.4:\n",
            "  Successfully uninstalled numpy-1.26.4\n",
            "Found existing installation: scikit-surprise 1.1.4\n",
            "Uninstalling scikit-surprise-1.1.4:\n",
            "  Successfully uninstalled scikit-surprise-1.1.4\n",
            "Collecting numpy==1.26.4\n",
            "  Using cached numpy-1.26.4-cp311-cp311-manylinux_2_17_x86_64.manylinux2014_x86_64.whl.metadata (61 kB)\n",
            "Using cached numpy-1.26.4-cp311-cp311-manylinux_2_17_x86_64.manylinux2014_x86_64.whl (18.3 MB)\n",
            "Installing collected packages: numpy\n",
            "\u001b[31mERROR: pip's dependency resolver does not currently take into account all the packages that are installed. This behaviour is the source of the following dependency conflicts.\n",
            "thinc 8.3.6 requires numpy<3.0.0,>=2.0.0, but you have numpy 1.26.4 which is incompatible.\u001b[0m\u001b[31m\n",
            "\u001b[0mSuccessfully installed numpy-1.26.4\n",
            "Collecting scikit-surprise==1.1.4\n",
            "  Using cached scikit_surprise-1.1.4-cp311-cp311-linux_x86_64.whl\n",
            "Requirement already satisfied: joblib>=1.2.0 in /usr/local/lib/python3.11/dist-packages (from scikit-surprise==1.1.4) (1.5.0)\n",
            "Requirement already satisfied: numpy>=1.19.5 in /usr/local/lib/python3.11/dist-packages (from scikit-surprise==1.1.4) (1.26.4)\n",
            "Requirement already satisfied: scipy>=1.6.0 in /usr/local/lib/python3.11/dist-packages (from scikit-surprise==1.1.4) (1.15.3)\n",
            "Installing collected packages: scikit-surprise\n",
            "Successfully installed scikit-surprise-1.1.4\n",
            "==================================================\n",
            "INSTALASI SELESAI. SEKARANG PENTING SEKALI:\n",
            "!!! RESTART RUNTIME COLAB ANDA !!!\n",
            "Caranya: Pergi ke menu 'Runtime' -> 'Restart session...' atau 'Restart runtime...'\n",
            "Setelah restart, jalankan cell berikutnya yang berisi impor library.\n",
            "==================================================\n"
          ]
        }
      ]
    },
    {
      "cell_type": "code",
      "source": [
        "# RUN THIS CELL *AFTER* RESTARTING THE RUNTIME\n",
        "import pandas as pd\n",
        "import numpy as np\n",
        "from zipfile import ZipFile\n",
        "import tensorflow as tf\n",
        "from tensorflow import keras\n",
        "from tensorflow.keras import layers # Ini mungkin tidak dipakai, tapi untuk konsistensi\n",
        "from pathlib import Path\n",
        "import matplotlib.pyplot as plt\n",
        "import seaborn as sns\n",
        "\n",
        "# Library untuk Content-Based\n",
        "from sklearn.feature_extraction.text import TfidfVectorizer\n",
        "from sklearn.metrics.pairwise import cosine_similarity\n",
        "\n",
        "# Library untuk Collaborative Filtering\n",
        "# Ini adalah baris yang sebelumnya error. Seharusnya berhasil setelah restart.\n",
        "from surprise import SVD, Dataset, Reader\n",
        "from surprise.model_selection import train_test_split\n",
        "from surprise import accuracy\n",
        "\n",
        "# Cek versi untuk debugging\n",
        "# Setelah restart, versi numpy yang tercetak di sini harus 1.26.4\n",
        "print(f\"NumPy version: {np.__version__}\")\n",
        "print(f\"TensorFlow version: {tf.__version__}\")\n",
        "import surprise\n",
        "print(f\"Surprise version: {surprise.__version__}\")\n",
        "\n",
        "print(\"\\nSemua library berhasil diimpor setelah restart.\")"
      ],
      "metadata": {
        "colab": {
          "base_uri": "https://localhost:8080/"
        },
        "id": "IVLasPYvR3vw",
        "outputId": "c09e4995-8aaf-4e94-abb2-3e833c58d11e"
      },
      "execution_count": 1,
      "outputs": [
        {
          "output_type": "stream",
          "name": "stdout",
          "text": [
            "NumPy version: 1.26.4\n",
            "TensorFlow version: 2.18.0\n",
            "Surprise version: 1.1.4\n",
            "\n",
            "Semua library berhasil diimpor setelah restart.\n"
          ]
        }
      ]
    },
    {
      "cell_type": "markdown",
      "source": [
        "# Data Understanding\n",
        "\n",
        " Dataset yang digunakan adalah bagian dari dataset MovieLens (ml-latest-small) yang terdiri dari beberapa file CSV:\n",
        " - `movies.csv`: Informasi dasar film (movieId, title, genres).\n",
        " - `ratings.csv`: Data rating yang diberikan pengguna untuk film (userId, movieId, rating, timestamp).\n",
        " - `tags.csv`: Tag yang diberikan pengguna untuk film (userId, movieId, tag, timestamp).\n",
        " - `links.csv`: Identifier untuk layanan lain seperti IMDB dan TMDB (tidak akan digunakan secara ekstensif dalam model ini).\n",
        "\n",
        " Sumber data: MovieLens - https://grouplens.org/datasets/movielens/ (ml-latest-small)\n",
        "\n",
        "\n",
        "**Langkah-langkah Data Understanding:**\n",
        " 1. Memuat dataset.\n",
        " 2. Menampilkan informasi dasar (jumlah data, tipe data, nilai null).\n",
        " 3. Melakukan Exploratory Data Analysis (EDA) untuk mendapatkan insight."
      ],
      "metadata": {
        "id": "nX1aP0DLSDSr"
      }
    },
    {
      "cell_type": "markdown",
      "source": [
        "# --- 1. Load Data ---\n"
      ],
      "metadata": {
        "id": "t5Jo25G-SMO8"
      }
    },
    {
      "cell_type": "code",
      "source": [
        "print(\"--- Loading Data ---\")\n",
        "\n",
        "# from google.colab import drive\n",
        "# drive.mount('/content/drive')\n",
        "# movies_path = '/content/drive/MyDrive/Dataset/movies.csv' # Contoh path\n",
        "movies_path = 'movies.csv'\n",
        "ratings_path = 'ratings.csv'\n",
        "tags_path = 'tags.csv'\n",
        "\n",
        "movies_df = pd.read_csv(movies_path)\n",
        "ratings_df = pd.read_csv(ratings_path)\n",
        "tags_df = pd.read_csv(tags_path)\n",
        "\n",
        "print(\"\\nMovies DataFrame:\")\n",
        "print(movies_df.head())\n",
        "print(f\"\\nShape: {movies_df.shape}\")\n",
        "print(\"\\nInfo:\")\n",
        "movies_df.info()\n",
        "print(\"\\nMissing values:\")\n",
        "print(movies_df.isnull().sum())\n",
        "\n",
        "print(\"\\nRatings DataFrame:\")\n",
        "print(ratings_df.head())\n",
        "print(f\"\\nShape: {ratings_df.shape}\")\n",
        "print(\"\\nInfo:\")\n",
        "ratings_df.info()\n",
        "print(\"\\nMissing values:\")\n",
        "print(ratings_df.isnull().sum())\n",
        "\n",
        "\n",
        "print(\"\\nTags DataFrame:\")\n",
        "print(tags_df.head())\n",
        "print(f\"\\nShape: {tags_df.shape}\")\n",
        "print(\"\\nInfo:\")\n",
        "tags_df.info()\n",
        "print(\"\\nMissing values:\")\n",
        "print(tags_df.isnull().sum())"
      ],
      "metadata": {
        "colab": {
          "base_uri": "https://localhost:8080/"
        },
        "id": "RZpiFQW4SPpr",
        "outputId": "19da6d98-e76e-4d65-a44a-3de6c53ce672"
      },
      "execution_count": 4,
      "outputs": [
        {
          "output_type": "stream",
          "name": "stdout",
          "text": [
            "--- Loading Data ---\n",
            "\n",
            "Movies DataFrame:\n",
            "   movieId                               title  \\\n",
            "0        1                    Toy Story (1995)   \n",
            "1        2                      Jumanji (1995)   \n",
            "2        3             Grumpier Old Men (1995)   \n",
            "3        4            Waiting to Exhale (1995)   \n",
            "4        5  Father of the Bride Part II (1995)   \n",
            "\n",
            "                                        genres  \n",
            "0  Adventure|Animation|Children|Comedy|Fantasy  \n",
            "1                   Adventure|Children|Fantasy  \n",
            "2                               Comedy|Romance  \n",
            "3                         Comedy|Drama|Romance  \n",
            "4                                       Comedy  \n",
            "\n",
            "Shape: (9742, 3)\n",
            "\n",
            "Info:\n",
            "<class 'pandas.core.frame.DataFrame'>\n",
            "RangeIndex: 9742 entries, 0 to 9741\n",
            "Data columns (total 3 columns):\n",
            " #   Column   Non-Null Count  Dtype \n",
            "---  ------   --------------  ----- \n",
            " 0   movieId  9742 non-null   int64 \n",
            " 1   title    9742 non-null   object\n",
            " 2   genres   9742 non-null   object\n",
            "dtypes: int64(1), object(2)\n",
            "memory usage: 228.5+ KB\n",
            "\n",
            "Missing values:\n",
            "movieId    0\n",
            "title      0\n",
            "genres     0\n",
            "dtype: int64\n",
            "\n",
            "Ratings DataFrame:\n",
            "   userId  movieId  rating  timestamp\n",
            "0       1        1     4.0  964982703\n",
            "1       1        3     4.0  964981247\n",
            "2       1        6     4.0  964982224\n",
            "3       1       47     5.0  964983815\n",
            "4       1       50     5.0  964982931\n",
            "\n",
            "Shape: (100836, 4)\n",
            "\n",
            "Info:\n",
            "<class 'pandas.core.frame.DataFrame'>\n",
            "RangeIndex: 100836 entries, 0 to 100835\n",
            "Data columns (total 4 columns):\n",
            " #   Column     Non-Null Count   Dtype  \n",
            "---  ------     --------------   -----  \n",
            " 0   userId     100836 non-null  int64  \n",
            " 1   movieId    100836 non-null  int64  \n",
            " 2   rating     100836 non-null  float64\n",
            " 3   timestamp  100836 non-null  int64  \n",
            "dtypes: float64(1), int64(3)\n",
            "memory usage: 3.1 MB\n",
            "\n",
            "Missing values:\n",
            "userId       0\n",
            "movieId      0\n",
            "rating       0\n",
            "timestamp    0\n",
            "dtype: int64\n",
            "\n",
            "Tags DataFrame:\n",
            "   userId  movieId              tag   timestamp\n",
            "0       2    60756            funny  1445714994\n",
            "1       2    60756  Highly quotable  1445714996\n",
            "2       2    60756     will ferrell  1445714992\n",
            "3       2    89774     Boxing story  1445715207\n",
            "4       2    89774              MMA  1445715200\n",
            "\n",
            "Shape: (3683, 4)\n",
            "\n",
            "Info:\n",
            "<class 'pandas.core.frame.DataFrame'>\n",
            "RangeIndex: 3683 entries, 0 to 3682\n",
            "Data columns (total 4 columns):\n",
            " #   Column     Non-Null Count  Dtype \n",
            "---  ------     --------------  ----- \n",
            " 0   userId     3683 non-null   int64 \n",
            " 1   movieId    3683 non-null   int64 \n",
            " 2   tag        3683 non-null   object\n",
            " 3   timestamp  3683 non-null   int64 \n",
            "dtypes: int64(3), object(1)\n",
            "memory usage: 115.2+ KB\n",
            "\n",
            "Missing values:\n",
            "userId       0\n",
            "movieId      0\n",
            "tag          0\n",
            "timestamp    0\n",
            "dtype: int64\n"
          ]
        }
      ]
    },
    {
      "cell_type": "markdown",
      "source": [
        "# Variabel pada Dataset:\n",
        "**movies.csv:**\n",
        " - `movieId`: ID unik untuk setiap film.\n",
        " - `title`: Judul film beserta tahun rilis.\n",
        " - `genres`: Genre film, dipisahkan oleh karakter `|`.\n",
        "\n",
        "**ratings.csv:**\n",
        " - `userId`: ID unik untuk setiap pengguna.\n",
        " - `movieId`: ID film yang dirating.\n",
        " - `rating`: Rating yang diberikan pengguna (skala 0.5 - 5.0).\n",
        " - `timestamp`: Waktu pemberian rating (Unix timestamp).\n",
        "\n",
        "**tags.csv:**\n",
        " - `userId`: ID unik pengguna yang memberikan tag.\n",
        " - `movieId`: ID film yang diberi tag.\n",
        " - `tag`: Kata kunci atau deskripsi singkat yang diberikan pengguna.\n",
        " - `timestamp`: Waktu pemberian tag."
      ],
      "metadata": {
        "id": "xHBisHZeSXeq"
      }
    },
    {
      "cell_type": "markdown",
      "source": [
        "# Exploratory Data Analysis (EDA)\n",
        "Pada tahap ini, kita akan melakukan beberapa visualisasi dan analisis statistik dasar untuk memahami data lebih baik."
      ],
      "metadata": {
        "id": "UAB3WlsoSeS3"
      }
    },
    {
      "cell_type": "code",
      "source": [
        "print(\"\\n--- Exploratory Data Analysis ---\")\n",
        "\n",
        "# 1. Distribusi Rating Film\n",
        "plt.figure(figsize=(10, 6))\n",
        "sns.countplot(x='rating', data=ratings_df, palette='viridis')\n",
        "plt.title('Distribution of Movie Ratings')\n",
        "plt.xlabel('Rating')\n",
        "plt.ylabel('Number of Ratings')\n",
        "plt.show()\n",
        "print(\"Insight: Sebagian besar film mendapatkan rating 3.0, 3.5, 4.0, dan 4.5. Rating 5.0 juga cukup banyak, sementara rating rendah (0.5-2.5) lebih jarang.\")\n",
        "\n",
        "# 2. Jumlah Rating per Pengguna\n",
        "user_rating_counts = ratings_df['userId'].value_counts()\n",
        "plt.figure(figsize=(10, 6))\n",
        "sns.histplot(user_rating_counts, bins=50, kde=False)\n",
        "plt.title('Distribution of Number of Ratings per User')\n",
        "plt.xlabel('Number of Ratings Given by User')\n",
        "plt.ylabel('Number of Users')\n",
        "plt.xlim(0, 400) # Batasi x-axis untuk visualisasi yang lebih baik\n",
        "plt.show()\n",
        "print(f\"Insight: Distribusi jumlah rating per pengguna sangat skewed. Banyak pengguna yang hanya memberikan sedikit rating, sementara beberapa pengguna sangat aktif.\")\n",
        "print(f\"Statistik jumlah rating per pengguna:\\n{user_rating_counts.describe()}\")\n",
        "\n",
        "# 3. Jumlah Rating per Film\n",
        "movie_rating_counts = ratings_df['movieId'].value_counts()\n",
        "plt.figure(figsize=(10, 6))\n",
        "sns.histplot(movie_rating_counts, bins=50, kde=False)\n",
        "plt.title('Distribution of Number of Ratings per Movie')\n",
        "plt.xlabel('Number of Ratings Received by Movie')\n",
        "plt.ylabel('Number of Movies')\n",
        "plt.xlim(0, 150) # Batasi x-axis\n",
        "plt.show()\n",
        "print(f\"Insight: Mirip dengan pengguna, banyak film yang hanya mendapatkan sedikit rating, sementara beberapa film sangat populer.\")\n",
        "print(f\"Statistik jumlah rating per film:\\n{movie_rating_counts.describe()}\")\n",
        "\n",
        "\n",
        "# 4. Genre Film Terpopuler\n",
        "# Memecah string genre menjadi list dan menghitung frekuensinya\n",
        "genres_list = movies_df['genres'].str.split('|').explode()\n",
        "plt.figure(figsize=(12, 8))\n",
        "genres_list.value_counts().plot(kind='barh', color='skyblue')\n",
        "plt.title('Most Popular Movie Genres')\n",
        "plt.xlabel('Number of Movies')\n",
        "plt.ylabel('Genre')\n",
        "plt.gca().invert_yaxis()\n",
        "plt.show()\n",
        "print(\"Insight: Genre Drama, Comedy, Thriller, dan Action adalah yang paling umum dalam dataset.\")\n",
        "\n",
        "# 5. Jumlah User dan Movie\n",
        "num_users = ratings_df['userId'].nunique()\n",
        "num_movies_ratings = ratings_df['movieId'].nunique()\n",
        "num_movies_master = movies_df['movieId'].nunique()\n",
        "print(f\"\\nNumber of unique users: {num_users}\")\n",
        "print(f\"Number of unique movies in ratings data: {num_movies_ratings}\")\n",
        "print(f\"Number of unique movies in master movie list: {num_movies_master}\")\n",
        "print(\"Insight: Terdapat lebih banyak film di master list daripada yang memiliki rating, yang wajar.\")"
      ],
      "metadata": {
        "colab": {
          "base_uri": "https://localhost:8080/",
          "height": 1000
        },
        "id": "cJiNqesqSfn3",
        "outputId": "963d35c7-6d1d-4ca5-fb0d-63c32dcd0d2a"
      },
      "execution_count": 5,
      "outputs": [
        {
          "output_type": "stream",
          "name": "stdout",
          "text": [
            "\n",
            "--- Exploratory Data Analysis ---\n"
          ]
        },
        {
          "output_type": "stream",
          "name": "stderr",
          "text": [
            "<ipython-input-5-54792c4bb1ec>:5: FutureWarning: \n",
            "\n",
            "Passing `palette` without assigning `hue` is deprecated and will be removed in v0.14.0. Assign the `x` variable to `hue` and set `legend=False` for the same effect.\n",
            "\n",
            "  sns.countplot(x='rating', data=ratings_df, palette='viridis')\n"
          ]
        },
        {
          "output_type": "display_data",
          "data": {
            "text/plain": [
              "<Figure size 1000x600 with 1 Axes>"
            ],
            "image/png": "[encoded data removed]"
          },
          "metadata": {}
        },
        {
          "output_type": "stream",
          "name": "stdout",
          "text": [
            "Insight: Sebagian besar film mendapatkan rating 3.0, 3.5, 4.0, dan 4.5. Rating 5.0 juga cukup banyak, sementara rating rendah (0.5-2.5) lebih jarang.\n"
          ]
        },
        {
          "output_type": "display_data",
          "data": {
            "text/plain": [
              "<Figure size 1000x600 with 1 Axes>"
            ],
            "image/png": "[encoded data removed]"
          },
          "metadata": {}
        },
        {
          "output_type": "stream",
          "name": "stdout",
          "text": [
            "Insight: Distribusi jumlah rating per pengguna sangat skewed. Banyak pengguna yang hanya memberikan sedikit rating, sementara beberapa pengguna sangat aktif.\n",
            "Statistik jumlah rating per pengguna:\n",
            "count     610.000000\n",
            "mean      165.304918\n",
            "std       269.480584\n",
            "min        20.000000\n",
            "25%        35.000000\n",
            "50%        70.500000\n",
            "75%       168.000000\n",
            "max      2698.000000\n",
            "Name: count, dtype: float64\n"
          ]
        },
        {
          "output_type": "display_data",
          "data": {
            "text/plain": [
              "<Figure size 1000x600 with 1 Axes>"
            ],
            "image/png": "[encoded data removed]"
          },
          "metadata": {}
        },
        {
          "output_type": "stream",
          "name": "stdout",
          "text": [
            "Insight: Mirip dengan pengguna, banyak film yang hanya mendapatkan sedikit rating, sementara beberapa film sangat populer.\n",
            "Statistik jumlah rating per film:\n",
            "count    9724.000000\n",
            "mean       10.369807\n",
            "std        22.401005\n",
            "min         1.000000\n",
            "25%         1.000000\n",
            "50%         3.000000\n",
            "75%         9.000000\n",
            "max       329.000000\n",
            "Name: count, dtype: float64\n"
          ]
        },
        {
          "output_type": "display_data",
          "data": {
            "text/plain": [
              "<Figure size 1200x800 with 1 Axes>"
            ],
            "image/png": "[encoded data removed]"
          },
          "metadata": {}
        },
        {
          "output_type": "stream",
          "name": "stdout",
          "text": [
            "Insight: Genre Drama, Comedy, Thriller, dan Action adalah yang paling umum dalam dataset.\n",
            "\n",
            "Number of unique users: 610\n",
            "Number of unique movies in ratings data: 9724\n",
            "Number of unique movies in master movie list: 9742\n",
            "Insight: Terdapat lebih banyak film di master list daripada yang memiliki rating, yang wajar.\n"
          ]
        }
      ]
    },
    {
      "cell_type": "markdown",
      "source": [
        "# Data Preparation\n",
        "Tahap ini melibatkan persiapan data agar siap digunakan oleh model machine learning.\n",
        "Alasan melakukan Data Preparation:\n",
        "- Membersihkan data dari format yang tidak sesuai.\n",
        "- Membuat fitur baru yang lebih informatif untuk model.\n",
        "- Menggabungkan data dari sumber yang berbeda.\n",
        "- Menangani nilai yang hilang jika ada (meskipun pada dataset ini relatif bersih).\n",
        "\n",
        "**Untuk Content-Based Filtering:**\n",
        " 1. Menggabungkan `tags_df` untuk mendapatkan semua tag per `movieId`.\n",
        " 2. Menggabungkan hasil tag dengan `movies_df`.\n",
        " 3. Mengisi nilai tag yang kosong (film tanpa tag) dengan string kosong.\n",
        " 4. Membersihkan kolom `genres` (mengganti `|` dengan spasi, lowercase).\n",
        " 5. Membersihkan kolom `tag` (lowercase).\n",
        " 6. Membuat fitur gabungan (`soup`) dari `genres` dan `tag` yang telah dibersihkan. Fitur ini akan menjadi input untuk TF-IDF.\n",
        "\n",
        "**Untuk Collaborative Filtering:**<br><br>\n",
        " Data rating (`userId`, `movieId`, `rating`) sudah dalam format yang cukup baik, hanya perlu dimuat ke dalam format yang sesuai untuk library `Surprise`."
      ],
      "metadata": {
        "id": "B68CgrKfSmPp"
      }
    },
    {
      "cell_type": "code",
      "source": [
        "print(\"\\n--- Data Preparation ---\")\n",
        "\n",
        "# 1. Menggabungkan tags untuk setiap film (sudah ada di movies_with_tags_df sebelumnya)\n",
        "# Kita akan buat ulang agar runut\n",
        "movie_tags_agg = tags_df.groupby('movieId')['tag'].apply(lambda x: ' '.join(x)).reset_index()\n",
        "print(\"\\nAggregated tags per movie (sample):\")\n",
        "print(movie_tags_agg.head())\n",
        "\n",
        "# 2. Menggabungkan movies_df dengan movie_tags_agg\n",
        "movies_prepared_df = pd.merge(movies_df, movie_tags_agg, on='movieId', how='left')\n",
        "\n",
        "# 3. Mengisi NaN tags dengan string kosong\n",
        "movies_prepared_df['tag'] = movies_prepared_df['tag'].fillna('')\n",
        "print(\"\\nMovies with tags (sample, NaN filled):\")\n",
        "print(movies_prepared_df.head())\n",
        "\n",
        "# 4. Membersihkan genre dan tag, lalu membuat 'soup'\n",
        "movies_prepared_df['genres_cleaned'] = movies_prepared_df['genres'].str.replace('|', ' ', regex=False).str.lower()\n",
        "movies_prepared_df['tag_cleaned'] = movies_prepared_df['tag'].str.lower()\n",
        "\n",
        "# Pastikan tidak ada NaN sebelum penggabungan string\n",
        "movies_prepared_df['genres_cleaned'] = movies_prepared_df['genres_cleaned'].fillna('')\n",
        "movies_prepared_df['tag_cleaned'] = movies_prepared_df['tag_cleaned'].fillna('')\n",
        "\n",
        "\n",
        "movies_prepared_df['soup'] = movies_prepared_df['genres_cleaned'] + ' ' + movies_prepared_df['tag_cleaned']\n",
        "# Menghapus spasi berlebih jika ada\n",
        "movies_prepared_df['soup'] = movies_prepared_df['soup'].str.strip().str.replace(' +', ' ', regex=True)\n",
        "\n",
        "\n",
        "print(\"\\nMovies DataFrame with 'soup' feature for Content-Based (sample):\")\n",
        "print(movies_prepared_df[['title', 'genres', 'tag', 'soup']].head())\n",
        "\n",
        "# Data untuk Collaborative Filtering sudah cukup bersih, akan diproses saat load ke Surprise."
      ],
      "metadata": {
        "colab": {
          "base_uri": "https://localhost:8080/"
        },
        "id": "QKQ7EGd9SzeK",
        "outputId": "b447cffd-fe0c-49d0-cbb8-9d68d494658e"
      },
      "execution_count": 6,
      "outputs": [
        {
          "output_type": "stream",
          "name": "stdout",
          "text": [
            "\n",
            "--- Data Preparation ---\n",
            "\n",
            "Aggregated tags per movie (sample):\n",
            "   movieId                                           tag\n",
            "0        1                               pixar pixar fun\n",
            "1        2  fantasy magic board game Robin Williams game\n",
            "2        3                                     moldy old\n",
            "3        5                              pregnancy remake\n",
            "4        7                                        remake\n",
            "\n",
            "Movies with tags (sample, NaN filled):\n",
            "   movieId                               title  \\\n",
            "0        1                    Toy Story (1995)   \n",
            "1        2                      Jumanji (1995)   \n",
            "2        3             Grumpier Old Men (1995)   \n",
            "3        4            Waiting to Exhale (1995)   \n",
            "4        5  Father of the Bride Part II (1995)   \n",
            "\n",
            "                                        genres  \\\n",
            "0  Adventure|Animation|Children|Comedy|Fantasy   \n",
            "1                   Adventure|Children|Fantasy   \n",
            "2                               Comedy|Romance   \n",
            "3                         Comedy|Drama|Romance   \n",
            "4                                       Comedy   \n",
            "\n",
            "                                            tag  \n",
            "0                               pixar pixar fun  \n",
            "1  fantasy magic board game Robin Williams game  \n",
            "2                                     moldy old  \n",
            "3                                                \n",
            "4                              pregnancy remake  \n",
            "\n",
            "Movies DataFrame with 'soup' feature for Content-Based (sample):\n",
            "                                title  \\\n",
            "0                    Toy Story (1995)   \n",
            "1                      Jumanji (1995)   \n",
            "2             Grumpier Old Men (1995)   \n",
            "3            Waiting to Exhale (1995)   \n",
            "4  Father of the Bride Part II (1995)   \n",
            "\n",
            "                                        genres  \\\n",
            "0  Adventure|Animation|Children|Comedy|Fantasy   \n",
            "1                   Adventure|Children|Fantasy   \n",
            "2                               Comedy|Romance   \n",
            "3                         Comedy|Drama|Romance   \n",
            "4                                       Comedy   \n",
            "\n",
            "                                            tag  \\\n",
            "0                               pixar pixar fun   \n",
            "1  fantasy magic board game Robin Williams game   \n",
            "2                                     moldy old   \n",
            "3                                                 \n",
            "4                              pregnancy remake   \n",
            "\n",
            "                                                soup  \n",
            "0  adventure animation children comedy fantasy pi...  \n",
            "1  adventure children fantasy fantasy magic board...  \n",
            "2                           comedy romance moldy old  \n",
            "3                               comedy drama romance  \n",
            "4                            comedy pregnancy remake  \n"
          ]
        }
      ]
    },
    {
      "cell_type": "markdown",
      "source": [
        "# Modeling\n",
        "Pada tahap ini, kita akan membangun dua model sistem rekomendasi:\n",
        "\n",
        "### 1. Content-Based Filtering\n",
        "Model ini merekomendasikan film berdasarkan kemiripan kontennya.\n",
        " - **Fitur Konten**: Gabungan dari genre dan tag (`soup`).\n",
        " - **Teknik Vektorisasi**: TF-IDF (Term Frequency-Inverse Document Frequency) untuk mengubah teks `soup` menjadi representasi numerik (vektor). TF-IDF memberi bobot lebih pada kata-kata yang penting untuk sebuah dokumen (film) tetapi jarang muncul di dokumen lain.\n",
        " - **Metrik Kemiripan**: Cosine Similarity untuk mengukur kemiripan antar vektor TF-IDF film.\n",
        " - **Output**: Top-N film yang paling mirip dengan film input.\n",
        "\n",
        "**Kelebihan Content-Based Filtering:**\n",
        " - Tidak memerlukan data dari pengguna lain.\n",
        " - Mampu merekomendasikan item baru (selama item tersebut memiliki deskripsi konten).\n",
        " - Rekomendasi dapat dijelaskan (misalnya, \"direkomendasikan karena genrenya sama\").\n",
        "\n",
        "**Kekurangan Content-Based Filtering:**\n",
        " - Terbatas pada fitur yang ada; jika fitur tidak deskriptif, rekomendasi akan buruk.\n",
        " - Cenderung menghasilkan rekomendasi yang terlalu mirip (kurang serendipity atau penemuan baru).\n",
        " - Masalah \"filter bubble\" atau over-specialization, pengguna mungkin tidak terekspos pada variasi konten yang lebih luas."
      ],
      "metadata": {
        "id": "Ksq8n2mAS3BB"
      }
    },
    {
      "cell_type": "code",
      "source": [
        "print(\"\\n--- Building Content-Based Filtering Model ---\")\n",
        "\n",
        "# Inisialisasi TfidfVectorizer\n",
        "tfidf_vectorizer = TfidfVectorizer(stop_words='english', min_df=2) # min_df=2 untuk mengabaikan term yang sangat jarang\n",
        "\n",
        "# Fit dan transform 'soup'\n",
        "# Mengatasi jika ada nilai NaN di 'soup' setelah pembersihan (seharusnya tidak ada jika langkah sebelumnya benar)\n",
        "movies_prepared_df['soup'] = movies_prepared_df['soup'].fillna('')\n",
        "tfidf_matrix = tfidf_vectorizer.fit_transform(movies_prepared_df['soup'])\n",
        "print(f\"Shape of TF-IDF Matrix: {tfidf_matrix.shape}\")\n",
        "\n",
        "# Hitung cosine similarity\n",
        "cosine_sim_content = cosine_similarity(tfidf_matrix, tfidf_matrix)\n",
        "print(f\"Shape of Cosine Similarity Matrix: {cosine_sim_content.shape}\")\n",
        "\n",
        "# Membuat mapping judul film ke index dataframe\n",
        "# Ini penting agar kita bisa mencari film berdasarkan judulnya\n",
        "indices_map = pd.Series(movies_prepared_df.index, index=movies_prepared_df['title']).drop_duplicates()\n",
        "\n",
        "def get_content_based_recommendations(title, N=10, cosine_sim_matrix=cosine_sim_content, movie_df=movies_prepared_df, idx_map=indices_map):\n",
        "    \"\"\"Memberikan rekomendasi film berdasarkan kemiripan konten.\"\"\"\n",
        "    if title not in idx_map:\n",
        "        # Mencoba mencari judul yang mirip jika tidak persis sama\n",
        "        similar_titles = [t for t in idx_map.index if title.lower() in t.lower()]\n",
        "        if not similar_titles:\n",
        "            return f\"Movie '{title}' not found.\"\n",
        "        elif len(similar_titles) > 1:\n",
        "            return f\"Movie '{title}' is ambiguous. Found: {similar_titles[:5]}\"\n",
        "        title = similar_titles[0] # Ambil yang pertama jika ada beberapa\n",
        "        print(f\"Using '{title}' as the movie for recommendation.\")\n",
        "\n",
        "    idx = idx_map[title]\n",
        "\n",
        "    # Dapatkan skor kemiripan film input dengan semua film lain\n",
        "    sim_scores = list(enumerate(cosine_sim_matrix[idx]))\n",
        "\n",
        "    # Urutkan film berdasarkan skor kemiripan\n",
        "    sim_scores = sorted(sim_scores, key=lambda x: x[1], reverse=True)\n",
        "\n",
        "    # Ambil skor N film paling mirip (kecuali film input itu sendiri, jadi N+1)\n",
        "    sim_scores = sim_scores[1:N+1]\n",
        "\n",
        "    # Dapatkan index film dari skor kemiripan\n",
        "    movie_indices = [i[0] for i in sim_scores]\n",
        "\n",
        "    # Kembalikan N film paling mirip beserta skor kemiripannya\n",
        "    recommendations = movie_df[['title', 'genres']].iloc[movie_indices].copy()\n",
        "    recommendations['similarity_score'] = [s[1] for s in sim_scores]\n",
        "    return recommendations\n",
        "\n",
        "# Contoh output Top-N rekomendasi untuk Content-Based\n",
        "movie_cbf_example_1 = 'Toy Story (1995)'\n",
        "print(f\"\\nTop-5 Recommendations for '{movie_cbf_example_1}' (Content-Based):\")\n",
        "recommendations1 = get_content_based_recommendations(movie_cbf_example_1, N=5)\n",
        "if isinstance(recommendations1, str):\n",
        "    print(recommendations1)\n",
        "else:\n",
        "    print(recommendations1)\n",
        "\n",
        "movie_cbf_example_2 = 'Jumanji (1995)'\n",
        "print(f\"\\nTop-5 Recommendations for '{movie_cbf_example_2}' (Content-Based):\")\n",
        "recommendations2 = get_content_based_recommendations(movie_cbf_example_2, N=5)\n",
        "if isinstance(recommendations2, str):\n",
        "    print(recommendations2)\n",
        "else:\n",
        "    print(recommendations2)\n",
        "\n",
        "# Mencoba film yang mungkin tidak ada untuk melihat error handling\n",
        "movie_cbf_example_3 = \"Avatar\" # Mungkin ada, mungkin tidak di dataset small ini\n",
        "print(f\"\\nTop-5 Recommendations for '{movie_cbf_example_3}' (Content-Based):\")\n",
        "recommendations3 = get_content_based_recommendations(movie_cbf_example_3, N=5)\n",
        "if isinstance(recommendations3, str):\n",
        "    print(recommendations3)\n",
        "else:\n",
        "    print(recommendations3)\n"
      ],
      "metadata": {
        "colab": {
          "base_uri": "https://localhost:8080/"
        },
        "id": "7cNFFIjAS8KU",
        "outputId": "db059000-b276-42b0-8a7e-3917d2346264"
      },
      "execution_count": 7,
      "outputs": [
        {
          "output_type": "stream",
          "name": "stdout",
          "text": [
            "\n",
            "--- Building Content-Based Filtering Model ---\n",
            "Shape of TF-IDF Matrix: (9742, 727)\n",
            "Shape of Cosine Similarity Matrix: (9742, 9742)\n",
            "\n",
            "Top-5 Recommendations for 'Toy Story (1995)' (Content-Based):\n",
            "                                 title  \\\n",
            "1757              Bug's Life, A (1998)   \n",
            "2355                Toy Story 2 (1999)   \n",
            "7039                         Up (2009)   \n",
            "8695  Guardians of the Galaxy 2 (2017)   \n",
            "1706                       Antz (1998)   \n",
            "\n",
            "                                           genres  similarity_score  \n",
            "1757          Adventure|Animation|Children|Comedy          0.862225  \n",
            "2355  Adventure|Animation|Children|Comedy|Fantasy          0.644038  \n",
            "7039           Adventure|Animation|Children|Drama          0.387905  \n",
            "8695                      Action|Adventure|Sci-Fi          0.367650  \n",
            "1706  Adventure|Animation|Children|Comedy|Fantasy          0.357912  \n",
            "\n",
            "Top-5 Recommendations for 'Jumanji (1995)' (Content-Based):\n",
            "                                                  title  \\\n",
            "9692                                 Tomb Raider (2018)   \n",
            "6254                         Night at the Museum (2006)   \n",
            "3574  Harry Potter and the Sorcerer's Stone (a.k.a. ...   \n",
            "6751   Chronicles of Narnia: Prince Caspian, The (2008)   \n",
            "53                   Indian in the Cupboard, The (1995)   \n",
            "\n",
            "                          genres  similarity_score  \n",
            "9692    Action|Adventure|Fantasy          0.571884  \n",
            "6254  Action|Comedy|Fantasy|IMAX          0.378617  \n",
            "3574  Adventure|Children|Fantasy          0.344928  \n",
            "6751  Adventure|Children|Fantasy          0.343632  \n",
            "53    Adventure|Children|Fantasy          0.324014  \n",
            "\n",
            "Top-5 Recommendations for 'Avatar' (Content-Based):\n",
            "Using 'Avatar (2009)' as the movie for recommendation.\n",
            "                                                  title  \\\n",
            "8376                                Interstellar (2014)   \n",
            "7484                                Tron: Legacy (2010)   \n",
            "973                                        Akira (1988)   \n",
            "2999                       Dude, Where's My Car? (2000)   \n",
            "3832  Star Wars: Episode II - Attack of the Clones (...   \n",
            "\n",
            "                                 genres  similarity_score  \n",
            "8376                        Sci-Fi|IMAX          0.292397  \n",
            "7484       Action|Adventure|Sci-Fi|IMAX          0.266961  \n",
            "973   Action|Adventure|Animation|Sci-Fi          0.266828  \n",
            "2999                      Comedy|Sci-Fi          0.263181  \n",
            "3832       Action|Adventure|Sci-Fi|IMAX          0.262216  \n"
          ]
        }
      ]
    },
    {
      "cell_type": "markdown",
      "source": [
        "### 2. Collaborative Filtering\n",
        "Model ini merekomendasikan film berdasarkan kemiripan pola perilaku pengguna (rating).\n",
        " - **Algoritma**: SVD (Singular Value Decomposition). SVD adalah teknik faktorisasi matriks yang menguraikan matriks interaksi user-item (matriks rating) menjadi faktor laten pengguna dan item. Ini membantu menemukan pola tersembunyi dalam data rating.\n",
        " - **Library**: `Surprise`, sebuah library Python yang populer untuk sistem rekomendasi.\n",
        " - **Input**: Data rating (`userId`, `movieId`, `rating`).\n",
        " - **Output**: Top-N film yang diprediksi akan disukai oleh pengguna tertentu (yang belum ia tonton).\n",
        "\n",
        "**Kelebihan Collaborative Filtering:**\n",
        " - Mampu menemukan hubungan yang kompleks dan tak terduga antar item/pengguna (serendipity).\n",
        " - Tidak bergantung pada fitur konten, sehingga bisa bekerja meskipun deskripsi konten terbatas atau tidak ada.\n",
        " - Seiring bertambahnya data interaksi, kualitas rekomendasi bisa meningkat.\n",
        "\n",
        "**Kekurangan Collaborative Filtering:**\n",
        " - **Cold-start problem**: Sulit memberikan rekomendasi untuk pengguna baru (yang belum memberi rating) atau item baru (yang belum mendapat rating).\n",
        " - **Data sparsity**: Matriks user-item seringkali sangat sparse (banyak nilai kosong karena tidak semua user merating semua item), yang dapat mempengaruhi kualitas model.\n",
        " - **Popularity bias**: Cenderung merekomendasikan item-item populer yang sudah banyak dirating."
      ],
      "metadata": {
        "id": "bjg5f3nxTB1o"
      }
    },
    {
      "cell_type": "code",
      "source": [
        "print(\"\\n--- Building Collaborative Filtering Model (SVD) ---\")\n",
        "\n",
        "# Siapkan data untuk Surprise\n",
        "reader = Reader(rating_scale=(ratings_df['rating'].min(), ratings_df['rating'].max()))\n",
        "data_surprise = Dataset.load_from_df(ratings_df[['userId', 'movieId', 'rating']], reader)\n",
        "\n",
        "# Split data menjadi train dan test set\n",
        "trainset, testset = train_test_split(data_surprise, test_size=0.2, random_state=42)\n",
        "\n",
        "# Latih model SVD\n",
        "# Parameter n_factors, n_epochs, lr_all, reg_all dapat di-tune menggunakan GridSearchCV\n",
        "svd_model = SVD(n_factors=100, n_epochs=30, lr_all=0.005, reg_all=0.1, random_state=42)\n",
        "svd_model.fit(trainset)\n",
        "\n",
        "# Evaluasi model (RMSE)\n",
        "predictions_svd_test = svd_model.test(testset)\n",
        "rmse_svd = accuracy.rmse(predictions_svd_test)\n",
        "print(f\"RMSE for SVD model on test set: {rmse_svd:.4f}\")\n",
        "\n",
        "# Fungsi untuk mendapatkan Top-N rekomendasi untuk seorang user menggunakan SVD\n",
        "def get_svd_recommendations_for_user(user_id, N=10, model=svd_model, movies_df=movies_prepared_df, ratings_df=ratings_df):\n",
        "    \"\"\"Memberikan Top-N rekomendasi film untuk pengguna tertentu menggunakan model SVD.\"\"\"\n",
        "    # Dapatkan daftar semua movieId unik\n",
        "    all_movie_ids = movies_df['movieId'].unique()\n",
        "\n",
        "    # Dapatkan daftar movieId yang sudah dirating oleh user\n",
        "    rated_movie_ids_by_user = ratings_df[ratings_df['userId'] == user_id]['movieId'].unique()\n",
        "\n",
        "    # Dapatkan movieId yang BELUM dirating oleh user\n",
        "    unrated_movie_ids = [movie_id for movie_id in all_movie_ids if movie_id not in rated_movie_ids_by_user]\n",
        "\n",
        "    if not unrated_movie_ids:\n",
        "        return \"User has rated all available movies or no unrated movies found.\"\n",
        "\n",
        "    # Buat test set untuk prediksi pada film yang belum dirating\n",
        "    test_set_for_prediction = [[user_id, movie_id, 0] for movie_id in unrated_movie_ids] # 0 adalah placeholder true rating\n",
        "\n",
        "    # Lakukan prediksi\n",
        "    predictions_for_user = model.test(test_set_for_prediction)\n",
        "\n",
        "    # Urutkan prediksi berdasarkan estimasi rating (est) tertinggi\n",
        "    predictions_for_user.sort(key=lambda x: x.est, reverse=True)\n",
        "\n",
        "    # Ambil N rekomendasi teratas\n",
        "    top_n_predictions_objects = predictions_for_user[:N]\n",
        "\n",
        "    # Dapatkan movieId dan estimasi rating dari rekomendasi\n",
        "    recommended_movie_details = []\n",
        "    for pred_obj in top_n_predictions_objects:\n",
        "        movie_title = movies_df[movies_df['movieId'] == pred_obj.iid]['title'].iloc[0]\n",
        "        movie_genres = movies_df[movies_df['movieId'] == pred_obj.iid]['genres'].iloc[0]\n",
        "        recommended_movie_details.append({\n",
        "            'title': movie_title,\n",
        "            'genres': movie_genres,\n",
        "            'predicted_rating': pred_obj.est\n",
        "        })\n",
        "\n",
        "    return pd.DataFrame(recommended_movie_details)\n",
        "\n",
        "# Contoh output Top-N rekomendasi untuk Collaborative Filtering (SVD)\n",
        "user_example_cf = 1 # Pilih user ID untuk contoh\n",
        "print(f\"\\nTop-5 Recommendations for User ID {user_example_cf} (Collaborative Filtering - SVD):\")\n",
        "recommendations_cf_user1 = get_svd_recommendations_for_user(user_example_cf, N=5)\n",
        "if isinstance(recommendations_cf_user1, str):\n",
        "    print(recommendations_cf_user1)\n",
        "else:\n",
        "    print(recommendations_cf_user1)\n",
        "\n",
        "user_example_cf_2 = 68 # Pilih user ID lain\n",
        "print(f\"\\nTop-5 Recommendations for User ID {user_example_cf_2} (Collaborative Filtering - SVD):\")\n",
        "recommendations_cf_user68 = get_svd_recommendations_for_user(user_example_cf_2, N=5)\n",
        "if isinstance(recommendations_cf_user68, str):\n",
        "    print(recommendations_cf_user68)\n",
        "else:\n",
        "    print(recommendations_cf_user68)"
      ],
      "metadata": {
        "colab": {
          "base_uri": "https://localhost:8080/"
        },
        "id": "F8w8v_bOTQyG",
        "outputId": "ff35706e-130f-4182-d1c2-248bbb39efdf"
      },
      "execution_count": 8,
      "outputs": [
        {
          "output_type": "stream",
          "name": "stdout",
          "text": [
            "\n",
            "--- Building Collaborative Filtering Model (SVD) ---\n",
            "RMSE: 0.8718\n",
            "RMSE for SVD model on test set: 0.8718\n",
            "\n",
            "Top-5 Recommendations for User ID 1 (Collaborative Filtering - SVD):\n",
            "                                               title               genres  \\\n",
            "0  Dr. Strangelove or: How I Learned to Stop Worr...           Comedy|War   \n",
            "1                   Streetcar Named Desire, A (1951)                Drama   \n",
            "2                              Paths of Glory (1957)            Drama|War   \n",
            "3                          Lawrence of Arabia (1962)  Adventure|Drama|War   \n",
            "4   Three Billboards Outside Ebbing, Missouri (2017)          Crime|Drama   \n",
            "\n",
            "   predicted_rating  \n",
            "0               5.0  \n",
            "1               5.0  \n",
            "2               5.0  \n",
            "3               5.0  \n",
            "4               5.0  \n",
            "\n",
            "Top-5 Recommendations for User ID 68 (Collaborative Filtering - SVD):\n",
            "                                            title               genres  \\\n",
            "0                           Paths of Glory (1957)            Drama|War   \n",
            "1  Cinema Paradiso (Nuovo cinema Paradiso) (1989)                Drama   \n",
            "2                Streetcar Named Desire, A (1951)                Drama   \n",
            "3                       Lawrence of Arabia (1962)  Adventure|Drama|War   \n",
            "4             Guess Who's Coming to Dinner (1967)                Drama   \n",
            "\n",
            "   predicted_rating  \n",
            "0          4.040087  \n",
            "1          4.013640  \n",
            "2          3.994298  \n",
            "3          3.988656  \n",
            "4          3.974903  \n"
          ]
        }
      ]
    },
    {
      "cell_type": "markdown",
      "source": [
        "# Evaluation\n",
        "Evaluasi model sistem rekomendasi penting untuk mengukur kinerjanya.\n",
        "\n",
        "### Metrik Evaluasi\n",
        "1.  **RMSE (Root Mean Squared Error)**:\n",
        "    - **Formula**: `sqrt(mean((actual_rating - predicted_rating)^2))`\n",
        "    - **Cara Kerja**: Mengukur rata-rata besarnya kesalahan antara rating aktual dan rating prediksi. Memberikan bobot lebih pada kesalahan yang besar karena adanya kuadrat. Semakin kecil nilai RMSE, semakin baik model dalam memprediksi rating.\n",
        "    - **Konteks**: Digunakan untuk mengevaluasi model Collaborative Filtering berbasis prediksi rating seperti SVD.\n",
        "\n",
        "2.  **Precision@k dan Recall@k**:\n",
        "    - **Precision@k Formula**: `(Jumlah item relevan di top-k rekomendasi) / k`\n",
        "    - **Recall@k Formula**: `(Jumlah item relevan di top-k rekomendasi) / (Total item relevan untuk pengguna)`\n",
        "    - **Cara Kerja**:\n",
        "        - **Precision@k**: Mengukur seberapa banyak dari k item yang direkomendasikan ternyata memang relevan (misalnya, disukai pengguna). Penting karena pengguna biasanya hanya melihat beberapa item teratas.\n",
        "        - **Recall@k**: Mengukur seberapa banyak item relevan yang berhasil ditemukan dan direkomendasikan oleh sistem dalam k item teratas.\n",
        "    - **Konteks**: Digunakan untuk mengevaluasi kualitas ranking dari Top-N rekomendasi. Item dianggap \"relevan\" jika rating aktualnya di atas threshold tertentu (misalnya, 3.5 atau 4.0).\n",
        "    - **Pemilihan Metrik**: Precision@k dan Recall@k dipilih karena relevan dengan tujuan utama sistem rekomendasi, yaitu menyajikan daftar pendek film yang kemungkinan besar disukai pengguna. Pengguna tidak akan melihat semua film, jadi akurasi di posisi teratas (k kecil) sangat penting.\n",
        "\n",
        "**Evaluasi Content-Based Filtering**:\n",
        "Untuk model Content-Based yang dibuat di sini, evaluasi cenderung lebih kualitatif.\n",
        "-   Misalnya, untuk film 'Toy Story (1995)', rekomendasi teratasnya adalah 'Bug's Life, A (1998)' dengan skor kemiripan 0.86, 'Toy Story 2 (1999)' dengan skor 0.64, dan 'Up (2009)' dengan skor 0.39. Rekomendasi ini masuk akal karena film-film tersebut juga merupakan film animasi dan/atau anak-anak yang memiliki tema serupa.\n",
        "-   Untuk 'Jumanji (1995)', rekomendasi seperti 'Tomb Raider (2018)' (skor 0.57) dan 'Night at the Museum (2006)' (skor 0.38) juga menunjukkan kemiripan genre Adventure dan Fantasy.\n",
        "\n",
        "**Hasil Proyek Berdasarkan Metrik Evaluasi untuk Collaborative Filtering (SVD)**:\n",
        "-   Model SVD menghasilkan nilai **RMSE sebesar 0.8718** pada test set. Ini menunjukkan bahwa rata-rata kesalahan prediksi rating oleh model adalah sekitar 0.87 poin pada skala rating 0.5 hingga 5.0.\n",
        "-   Dengan menggunakan threshold relevansi 4.0 (artinya film dianggap relevan jika rating aslinya >= 4.0) dan k=10:\n",
        "    -   **Average Precision@10 adalah 0.6489**. Ini berarti, rata-rata, sekitar 64.89% dari 10 film teratas yang direkomendasikan kepada pengguna memang dianggap relevan oleh pengguna tersebut di test set.\n",
        "    -   **Average Recall@10 adalah 0.6668**. Ini berarti, rata-rata, model berhasil merekomendasikan sekitar 66.68% dari total film yang relevan bagi pengguna (di test set) dalam 10 rekomendasi teratasnya."
      ],
      "metadata": {
        "id": "Y-dJaClRTSKh"
      }
    },
    {
      "cell_type": "code",
      "source": [
        "# --- Evaluasi Tambahan untuk Collaborative Filtering (Precision@k & Recall@k) ---\n",
        "print(\"\\n--- Evaluating Collaborative Filtering (Precision@k, Recall@k) ---\")\n",
        "\n",
        "def calculate_precision_recall_at_k(predictions, k=10, rating_threshold=4.0):\n",
        "    \"\"\"\n",
        "    Menghitung Precision@k dan Recall@k untuk setiap pengguna.\n",
        "    'predictions' adalah list hasil dari model.test(testset).\n",
        "    \"\"\"\n",
        "    user_est_true = {} # Dictionary: {userId: [(estimated_rating, true_rating), ...]}\n",
        "    for uid, _, true_r, est, _ in predictions:\n",
        "        user_est_true.setdefault(uid, []).append((est, true_r))\n",
        "\n",
        "    precisions = {}\n",
        "    recalls = {}\n",
        "\n",
        "    for uid, user_ratings_list in user_est_true.items():\n",
        "        # Urutkan rating berdasarkan estimasi (prediksi) tertinggi\n",
        "        user_ratings_list.sort(key=lambda x: x[0], reverse=True)\n",
        "\n",
        "        # Jumlah item yang direkomendasikan di top-k\n",
        "        n_rec_k = len(user_ratings_list[:k])\n",
        "\n",
        "        # Jumlah item yang relevan DAN direkomendasikan di top-k\n",
        "        # Item dianggap relevan jika true_rating >= rating_threshold\n",
        "        n_rel_and_rec_k = sum((true_r >= rating_threshold) for (_, true_r) in user_ratings_list[:k])\n",
        "\n",
        "        # Jumlah total item yang relevan di seluruh test set untuk user ini\n",
        "        n_rel_total = sum((true_r >= rating_threshold) for (_, true_r) in user_ratings_list) # Perbaikan: iterasi semua user_ratings_list\n",
        "                                                                                            # bukan hanya testset global\n",
        "\n",
        "        # Precision@K\n",
        "        precisions[uid] = n_rel_and_rec_k / n_rec_k if n_rec_k != 0 else 0\n",
        "\n",
        "        # Recall@K\n",
        "        recalls[uid] = n_rel_and_rec_k / n_rel_total if n_rel_total != 0 else 0\n",
        "\n",
        "    return precisions, recalls\n",
        "\n",
        "# Menggunakan predictions_svd_test yang sudah ada dari evaluasi RMSE\n",
        "k_value = 10\n",
        "relevance_threshold = 4.0 # Anggap film relevan jika ratingnya >= 4.0\n",
        "precisions_svd, recalls_svd = calculate_precision_recall_at_k(predictions_svd_test, k=k_value, rating_threshold=relevance_threshold)\n",
        "\n",
        "# Rata-rata Precision dan Recall\n",
        "avg_precision_svd = sum(p for p in precisions_svd.values()) / len(precisions_svd) if precisions_svd else 0\n",
        "avg_recall_svd = sum(r for r in recalls_svd.values()) / len(recalls_svd) if recalls_svd else 0\n",
        "\n",
        "print(f\"\\nAverage Precision@{k_value} (threshold {relevance_threshold}): {avg_precision_svd:.4f}\")\n",
        "print(f\"Average Recall@{k_value} (threshold {relevance_threshold}): {avg_recall_svd:.4f}\")\n",
        "print(f\"Catatan: Metrik ini mengevaluasi seberapa baik model merekomendasikan film yang memang disukai pengguna (rating >= {relevance_threshold}) di antara {k_value} rekomendasi teratas.\")"
      ],
      "metadata": {
        "colab": {
          "base_uri": "https://localhost:8080/"
        },
        "id": "yhrUZJjLTmGw",
        "outputId": "bb14ea65-c975-4442-ab39-81ff80465aa0"
      },
      "execution_count": 9,
      "outputs": [
        {
          "output_type": "stream",
          "name": "stdout",
          "text": [
            "\n",
            "--- Evaluating Collaborative Filtering (Precision@k, Recall@k) ---\n",
            "\n",
            "Average Precision@10 (threshold 4.0): 0.6489\n",
            "Average Recall@10 (threshold 4.0): 0.6668\n",
            "Catatan: Metrik ini mengevaluasi seberapa baik model merekomendasikan film yang memang disukai pengguna (rating >= 4.0) di antara 10 rekomendasi teratas.\n"
          ]
        }
      ]
    },
    {
      "cell_type": "markdown",
      "source": [
        "# Kesimpulan\n",
        "\n",
        "Proyek ini berhasil mengembangkan dan mengevaluasi dua jenis sistem rekomendasi film menggunakan dataset MovieLens: Content-Based Filtering dan Collaborative Filtering (dengan algoritma SVD).\n",
        "\n",
        "**Content-Based Filtering**:\n",
        "-   Model ini mampu memberikan rekomendasi berdasarkan kemiripan fitur konten film, yaitu genre dan tag yang diberikan pengguna.\n",
        "-   Hasil kualitatif menunjukkan bahwa rekomendasi yang dihasilkan relevan secara tematik. Contohnya, untuk \"Toy Story (1995)\", film-film animasi seperti \"Bug's Life, A (1998)\" (skor kemiripan 0.8622) dan \"Toy Story 2 (1999)\" (skor 0.6440) berhasil direkomendasikan.\n",
        "-   **Kelebihan**: Tidak memerlukan data histori rating pengguna lain, dapat menjelaskan mengapa suatu item direkomendasikan, dan efektif untuk item baru dengan deskripsi yang kaya.\n",
        "-   **Kekurangan**: Cenderung merekomendasikan item yang sangat mirip (kurang serendipity), dan sangat bergantung pada kualitas serta kelengkapan fitur konten yang diekstraksi.\n",
        "\n",
        "**Collaborative Filtering (SVD)**:\n",
        "-   Model SVD dilatih menggunakan data rating pengguna dan menunjukkan kinerja yang cukup baik dalam memprediksi rating, dengan **RMSE sebesar 0.8718** pada test set.\n",
        "-   Dalam hal kualitas Top-N rekomendasi, model ini mencapai **Average Precision@10 sebesar 0.6489** dan **Average Recall@10 sebesar 0.6668** (dengan threshold relevansi rating ≥ 4.0). Ini mengindikasikan bahwa model cukup baik dalam menyajikan film-film yang kemungkinan besar akan disukai pengguna di antara rekomendasi teratasnya.\n",
        "-   Contohnya, untuk User ID 1, film-film klasik dan berating tinggi seperti \"Dr. Strangelove or: How I Learned to Stop Worrying and Love the Bomb (1964)\" dan \"Streetcar Named Desire, A (1951)\" direkomendasikan dengan prediksi rating 5.0.\n",
        "-   **Kelebihan**: Mampu menangkap preferensi implisit pengguna dan menghasilkan rekomendasi yang lebih beragam atau serendipitous, tidak bergantung pada fitur konten item.\n",
        "-   **Kekurangan**: Mengalami masalah cold-start untuk pengguna atau item baru, performanya menurun jika data rating sangat sparse, dan bisa memiliki bias terhadap item populer.\n",
        "\n",
        "**Secara Keseluruhan**:\n",
        "Kedua pendekatan sistem rekomendasi ini menawarkan solusi yang berbeda dengan kekuatan dan kelemahan masing-masing. Content-Based Filtering cocok untuk memulai rekomendasi ketika data interaksi pengguna masih sedikit atau untuk menjelaskan rekomendasi. Collaborative Filtering, terutama model-based seperti SVD, unggul dalam mempersonalisasi rekomendasi berdasarkan perilaku kolektif pengguna ketika data rating yang cukup tersedia. Untuk sistem yang lebih robust, pendekatan hybrid yang menggabungkan kedua metode ini seringkali memberikan hasil terbaik."
      ],
      "metadata": {
        "id": "ai2Jbv1ATo_9"
      }
    }
  ]
}