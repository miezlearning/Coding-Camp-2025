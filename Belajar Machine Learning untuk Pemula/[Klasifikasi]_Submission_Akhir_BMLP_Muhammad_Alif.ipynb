{
  "nbformat": 4,
  "nbformat_minor": 0,
  "metadata": {
    "colab": {
      "provenance": []
    },
    "kernelspec": {
      "name": "python3",
      "display_name": "Python 3"
    },
    "language_info": {
      "name": "python"
    }
  },
  "cells": [
    {
      "cell_type": "markdown",
      "source": [
        "# **1. Import Library**"
      ],
      "metadata": {
        "id": "fKADPWcFKlj3"
      }
    },
    {
      "cell_type": "markdown",
      "source": [
        "Pada tahap ini, Anda perlu mengimpor beberapa pustaka (library) Python yang dibutuhkan untuk analisis data dan pembangunan model machine learning."
      ],
      "metadata": {
        "id": "LgA3ERnVn84N"
      }
    },
    {
      "cell_type": "code",
      "source": [
        "import pandas as pd\n",
        "import numpy as np\n",
        "from sklearn.preprocessing import StandardScaler, LabelEncoder\n",
        "from sklearn.model_selection import train_test_split, GridSearchCV\n",
        "from sklearn.ensemble import RandomForestClassifier\n",
        "from sklearn.svm import SVC\n",
        "from sklearn.metrics import accuracy_score, f1_score, classification_report, confusion_matrix\n",
        "from sklearn.feature_selection import SelectKBest, f_classif\n",
        "import matplotlib.pyplot as plt\n",
        "import seaborn as sns\n",
        "from scipy import stats\n",
        "import warnings\n",
        "warnings.filterwarnings('ignore')"
      ],
      "metadata": {
        "id": "BlmvjLY9M4Yj"
      },
      "execution_count": 2,
      "outputs": []
    },
    {
      "cell_type": "markdown",
      "source": [
        "# **2. Memuat Dataset dari Hasil Clustering**"
      ],
      "metadata": {
        "id": "f3YIEnAFKrKL"
      }
    },
    {
      "cell_type": "markdown",
      "source": [
        "Memuat dataset hasil clustering dari file CSV ke dalam variabel DataFrame."
      ],
      "metadata": {
        "id": "Ey3ItwTen_7E"
      }
    },
    {
      "cell_type": "code",
      "source": [
        "dataset = \"https://raw.githubusercontent.com/miezlearning/Coding-Camp-2025/refs/heads/master/Belajar%20Machine%20Learning%20untuk%20Pemula/Dataset/hasil_clustering_mentahan.csv\"\n",
        "\n",
        "try:\n",
        "  df = pd.read_csv(dataset)\n",
        "  print(\"Data berhasil dibaca!\")\n",
        "  print(\"Jumlah baris dan kolom:\", df.shape)\n",
        "except FileNotFoundError:\n",
        "  print(f\"Error: Tidak ditemukan {dataset}. coba cek dataset.\")\n",
        "except pd.errors.ParserError:\n",
        "    print(f\"Error: Tidak bisa digunakan {dataset}. coba cek format filenya.\")\n",
        "except Exception as e:\n",
        "    print(f\"Error: {e}\")"
      ],
      "metadata": {
        "id": "GHCGNTyrM5fS",
        "colab": {
          "base_uri": "https://localhost:8080/"
        },
        "outputId": "566a69d6-5979-4e06-dfc1-5aa19479cbed"
      },
      "execution_count": 3,
      "outputs": [
        {
          "output_type": "stream",
          "name": "stdout",
          "text": [
            "Data berhasil dibaca!\n",
            "Jumlah baris dan kolom: (2464, 22)\n"
          ]
        }
      ]
    },
    {
      "cell_type": "markdown",
      "source": [
        "## Membaca Data 👀"
      ],
      "metadata": {
        "id": "rqI6ZwzPY4Do"
      }
    },
    {
      "cell_type": "code",
      "source": [
        "print(\"📊 Ringkasan Dataset:\")\n",
        "print(df.info(), \"\\n\")\n",
        "print(f\"📌 Jumlah Baris: {df.shape[0]} | Jumlah Kolom: {df.shape[1]}\\n\")\n",
        "\n",
        "print(\"🔍 Lima Baris Pertama dari Dataset:\")\n",
        "print(df.head(), \"\\n\")\n",
        "\n",
        "print(\"📊 Jumlah Nilai Unik per Kolom:\")\n",
        "print(df.nunique(), \"\\n\")\n",
        "\n",
        "missing_values = df.isnull().sum()\n",
        "if missing_values.sum() > 0:\n",
        "    print(\"⚠️ Dataset memiliki nilai yang null!\")\n",
        "    print(missing_values[missing_values > 0], \"\\n\")\n",
        "else:\n",
        "    print(\"✅ Tidak ada nilai yang null dalam dataset!\\n\")\n"
      ],
      "metadata": {
        "colab": {
          "base_uri": "https://localhost:8080/"
        },
        "id": "cdE-bCpyY9C6",
        "outputId": "c05b96ae-3114-4c45-d856-b0a6b178dec1"
      },
      "execution_count": 4,
      "outputs": [
        {
          "output_type": "stream",
          "name": "stdout",
          "text": [
            "📊 Ringkasan Dataset:\n",
            "<class 'pandas.core.frame.DataFrame'>\n",
            "RangeIndex: 2464 entries, 0 to 2463\n",
            "Data columns (total 22 columns):\n",
            " #   Column                    Non-Null Count  Dtype  \n",
            "---  ------                    --------------  -----  \n",
            " 0   AccountID                 2464 non-null   object \n",
            " 1   TransactionAmount         2464 non-null   float64\n",
            " 2   Location                  2464 non-null   object \n",
            " 3   DeviceID                  2464 non-null   object \n",
            " 4   IP Address                2464 non-null   object \n",
            " 5   MerchantID                2464 non-null   object \n",
            " 6   Channel                   2464 non-null   object \n",
            " 7   CustomerAge               2464 non-null   int64  \n",
            " 8   CustomerOccupation        2464 non-null   object \n",
            " 9   TransactionDuration       2464 non-null   int64  \n",
            " 10  LoginAttempts             2464 non-null   int64  \n",
            " 11  AccountBalance            2464 non-null   float64\n",
            " 12  PreviousTransactionDate   2464 non-null   object \n",
            " 13  TransactionDay            2464 non-null   float64\n",
            " 14  Location_Encoded          2464 non-null   int64  \n",
            " 15  Channel_Encoded           2464 non-null   int64  \n",
            " 16  Merchant_Encoded          2464 non-null   int64  \n",
            " 17  TransactionAmount_Scaled  2464 non-null   float64\n",
            " 18  TransactionDay_Scaled     2464 non-null   float64\n",
            " 19  Cluster_KMeans            2464 non-null   int64  \n",
            " 20  Cluster_Agglo             2464 non-null   int64  \n",
            " 21  Cluster_KMeans_Opt        2464 non-null   int64  \n",
            "dtypes: float64(5), int64(9), object(8)\n",
            "memory usage: 423.6+ KB\n",
            "None \n",
            "\n",
            "📌 Jumlah Baris: 2464 | Jumlah Kolom: 22\n",
            "\n",
            "🔍 Lima Baris Pertama dari Dataset:\n",
            "  AccountID  TransactionAmount   Location DeviceID      IP Address MerchantID  \\\n",
            "0   AC00128              14.09  San Diego  D000380  162.198.218.92       M015   \n",
            "1   AC00455             376.24    Houston  D000051     13.149.61.4       M052   \n",
            "2   AC00019             126.29       Mesa  D000235  215.97.143.157       M009   \n",
            "3   AC00070             184.50    Raleigh  D000187  200.13.225.150       M002   \n",
            "4   AC00411              13.45    Atlanta  D000308    65.164.3.100       M091   \n",
            "\n",
            "  Channel  CustomerAge CustomerOccupation  TransactionDuration  ...  \\\n",
            "0     ATM           70             Doctor                   81  ...   \n",
            "1     ATM           68             Doctor                  141  ...   \n",
            "2  Online           19            Student                   56  ...   \n",
            "3  Online           26            Student                   25  ...   \n",
            "4  Online           26            Student                  198  ...   \n",
            "\n",
            "   PreviousTransactionDate  TransactionDay Location_Encoded  Channel_Encoded  \\\n",
            "0      2024-11-04 08:08:08           101.0               36                0   \n",
            "1      2024-11-04 08:09:35           178.0               15                0   \n",
            "2      2024-11-04 08:07:04           191.0               23                2   \n",
            "3      2024-11-04 08:09:06           125.0               33                2   \n",
            "4      2024-11-04 08:06:39           289.0                1                2   \n",
            "\n",
            "   Merchant_Encoded  TransactionAmount_Scaled  TransactionDay_Scaled  \\\n",
            "0                14                 -1.052956              -0.776731   \n",
            "1                51                  0.402799              -0.052035   \n",
            "2                 8                 -0.601939               0.070316   \n",
            "3                 1                 -0.367949              -0.550852   \n",
            "4                90                 -1.055529               0.992657   \n",
            "\n",
            "   Cluster_KMeans  Cluster_Agglo  Cluster_KMeans_Opt  \n",
            "0               0              1                   0  \n",
            "1               1              2                   1  \n",
            "2               0              1                   0  \n",
            "3               0              1                   0  \n",
            "4               2              0                   1  \n",
            "\n",
            "[5 rows x 22 columns] \n",
            "\n",
            "📊 Jumlah Nilai Unik per Kolom:\n",
            "AccountID                    495\n",
            "TransactionAmount           2407\n",
            "Location                      43\n",
            "DeviceID                     681\n",
            "IP Address                   591\n",
            "MerchantID                   100\n",
            "Channel                        3\n",
            "CustomerAge                   63\n",
            "CustomerOccupation             4\n",
            "TransactionDuration          288\n",
            "LoginAttempts                  5\n",
            "AccountBalance              2462\n",
            "PreviousTransactionDate      360\n",
            "TransactionDay               261\n",
            "Location_Encoded              43\n",
            "Channel_Encoded                3\n",
            "Merchant_Encoded             100\n",
            "TransactionAmount_Scaled    2407\n",
            "TransactionDay_Scaled        261\n",
            "Cluster_KMeans                 3\n",
            "Cluster_Agglo                  3\n",
            "Cluster_KMeans_Opt             2\n",
            "dtype: int64 \n",
            "\n",
            "✅ Tidak ada nilai yang null dalam dataset!\n",
            "\n"
          ]
        }
      ]
    },
    {
      "cell_type": "markdown",
      "source": [
        "# **3. Data Splitting**"
      ],
      "metadata": {
        "id": "KkPem5eWL2UP"
      }
    },
    {
      "cell_type": "markdown",
      "source": [
        "Tahap Data Splitting bertujuan untuk memisahkan dataset menjadi dua bagian: data latih (training set) dan data uji (test set)."
      ],
      "metadata": {
        "id": "YYj1rl_JNI9Y"
      }
    },
    {
      "cell_type": "code",
      "source": [
        "X = df[['TransactionAmount_Scaled', 'TransactionDay_Scaled', 'Location_Encoded', 'Channel_Encoded', 'Merchant_Encoded']]\n",
        "y = df['Cluster_KMeans_Opt']  # Label dari clustering optimal (2 kelas)\n",
        "\n",
        "X_train, X_test, y_train, y_test = train_test_split(X, y, test_size=0.2, random_state=42, stratify=y)\n",
        "print(f\"\\nJumlah data training: {X_train.shape[0]}, testing: {X_test.shape[0]}\")\n",
        "\n",
        "# Feature Selection\n",
        "selector = SelectKBest(score_func=f_classif, k=5)\n",
        "X_train_selected = selector.fit_transform(X_train, y_train)\n",
        "X_test_selected = selector.transform(X_test)\n",
        "selected_features = X.columns[selector.get_support()].tolist()\n",
        "print(f\"Fitur terpilih: {selected_features}\")"
      ],
      "metadata": {
        "id": "OubAW-7ONKVj",
        "colab": {
          "base_uri": "https://localhost:8080/"
        },
        "outputId": "4fcb04ac-b3ab-4247-d730-2edf9dcfe353"
      },
      "execution_count": 8,
      "outputs": [
        {
          "output_type": "stream",
          "name": "stdout",
          "text": [
            "\n",
            "Jumlah data training: 1971, testing: 493\n",
            "Fitur terpilih: ['TransactionAmount_Scaled', 'TransactionDay_Scaled', 'Location_Encoded', 'Channel_Encoded', 'Merchant_Encoded']\n"
          ]
        }
      ]
    },
    {
      "cell_type": "markdown",
      "source": [
        "# **4. Membangun Model Klasifikasi**\n"
      ],
      "metadata": {
        "id": "IVPbB03CMhTT"
      }
    },
    {
      "cell_type": "markdown",
      "source": [
        "## **a. Membangun Model Klasifikasi**"
      ],
      "metadata": {
        "id": "Ned1pL9zMmBK"
      }
    },
    {
      "cell_type": "markdown",
      "source": [
        "Setelah memilih algoritma klasifikasi yang sesuai, langkah selanjutnya adalah melatih model menggunakan data latih.\n",
        "\n",
        "Berikut adalah rekomendasi tahapannya.\n",
        "1. Pilih algoritma klasifikasi yang sesuai, seperti Logistic Regression, Decision Tree, Random Forest, atau K-Nearest Neighbors (KNN).\n",
        "2. Latih model menggunakan data latih."
      ],
      "metadata": {
        "id": "WAWzPOE4Nkti"
      }
    },
    {
      "cell_type": "markdown",
      "source": [
        "### Dua algoritma klasifikasi digunakan:\n",
        "1. Random Forest: Ensemble berbasis pohon keputusan yang kuat untuk data multikelas dan fitur campuran.\n",
        "2. Support Vector Machine (SVM): Efektif untuk pemisahan kelas dengan kernel non-linear (RBF)."
      ],
      "metadata": {
        "id": "bShGCZq_kBtr"
      }
    },
    {
      "cell_type": "markdown",
      "source": [
        "### Model Random Forest"
      ],
      "metadata": {
        "id": "yO977jgnaG6G"
      }
    },
    {
      "cell_type": "code",
      "source": [
        "rf = RandomForestClassifier(n_estimators=100, random_state=42)\n",
        "rf.fit(X_train_selected, y_train)\n",
        "print(\"\\n✅ Model Random Forest berhasil dilatih.\")"
      ],
      "metadata": {
        "id": "4JYxBe87NLDk",
        "colab": {
          "base_uri": "https://localhost:8080/"
        },
        "outputId": "3613b9b1-4787-4020-caf1-938a33938089"
      },
      "execution_count": 9,
      "outputs": [
        {
          "output_type": "stream",
          "name": "stdout",
          "text": [
            "\n",
            "✅ Model Random Forest berhasil dilatih.\n"
          ]
        }
      ]
    },
    {
      "cell_type": "markdown",
      "source": [
        "### Model SVM"
      ],
      "metadata": {
        "id": "TByG5tCfaPeG"
      }
    },
    {
      "cell_type": "code",
      "source": [
        "svm = SVC(kernel='rbf', random_state=42)\n",
        "svm.fit(X_train_selected, y_train)\n",
        "\n",
        "print(\"\\n✅ Model  SVM berhasil dilatih.\")\n"
      ],
      "metadata": {
        "colab": {
          "base_uri": "https://localhost:8080/"
        },
        "id": "awm-TvYjaSEi",
        "outputId": "456683fa-cefd-487a-c231-caab262fc0a0"
      },
      "execution_count": 10,
      "outputs": [
        {
          "output_type": "stream",
          "name": "stdout",
          "text": [
            "\n",
            "✅ Model  SVM berhasil dilatih.\n"
          ]
        }
      ]
    },
    {
      "cell_type": "markdown",
      "source": [
        "Tulis narasi atau penjelasan algoritma yang Anda gunakan.\n",
        "\n",
        "\n",
        "\n",
        "---\n",
        "\n",
        "\n",
        "Random Forest dipilih karena kemampuannya menangani fitur numerikal dan kategorikal dengan baik serta ketahanannya terhadap overfitting. SVM dengan kernel RBF dipilih untuk menangani batas keputusan non-linear pada data yang telah distandarisasi, cocok untuk klasifikasi biner dari 2 cluster.\n"
      ],
      "metadata": {
        "id": "seYoHNY3XU1y"
      }
    },
    {
      "cell_type": "markdown",
      "source": [
        "## **b. Evaluasi Model Klasifikasi**"
      ],
      "metadata": {
        "id": "ergzChZFEL-O"
      }
    },
    {
      "cell_type": "markdown",
      "source": [
        "Berikut adalah **rekomendasi** tahapannya.\n",
        "1. Lakukan prediksi menggunakan data uji.\n",
        "2. Hitung metrik evaluasi seperti Accuracy dan F1-Score (Opsional: Precision dan Recall).\n",
        "3. Buat confusion matrix untuk melihat detail prediksi benar dan salah."
      ],
      "metadata": {
        "id": "zOm68u-7NpLT"
      }
    },
    {
      "cell_type": "code",
      "source": [
        "# Evaluasi Random Forest\n",
        "y_pred_rf = rf.predict(X_test_selected)\n",
        "acc_rf = accuracy_score(y_test, y_pred_rf)\n",
        "f1_rf = f1_score(y_test, y_pred_rf, average='weighted')\n",
        "print(\"\\n🔵 Evaluasi Random Forest:\")\n",
        "print(f\"Akurasi: {acc_rf:.4f}\")\n",
        "print(f\"F1-Score: {f1_rf:.4f}\")\n",
        "print(\"Classification Report:\")\n",
        "print(classification_report(y_test, y_pred_rf))\n",
        "\n",
        "# Confusion Matrix Random Forest\n",
        "cm_rf = confusion_matrix(y_test, y_pred_rf)\n",
        "plt.figure(figsize=(8, 6))\n",
        "sns.heatmap(cm_rf, annot=True, fmt='d', cmap='Blues')\n",
        "plt.title('Confusion Matrix Random Forest')\n",
        "plt.xlabel('Predicted')\n",
        "plt.ylabel('Actual')\n",
        "plt.show()\n",
        "\n",
        "# Evaluasi SVM\n",
        "y_pred_svm = svm.predict(X_test_selected)\n",
        "acc_svm = accuracy_score(y_test, y_pred_svm)\n",
        "f1_svm = f1_score(y_test, y_pred_svm, average='weighted')\n",
        "print(\"\\n🟢 Evaluasi SVM:\")\n",
        "print(f\"Akurasi: {acc_svm:.4f}\")\n",
        "print(f\"F1-Score: {f1_svm:.4f}\")\n",
        "print(\"Classification Report:\")\n",
        "print(classification_report(y_test, y_pred_svm))\n",
        "\n",
        "# Confusion Matrix SVM\n",
        "cm_svm = confusion_matrix(y_test, y_pred_svm)\n",
        "plt.figure(figsize=(8, 6))\n",
        "sns.heatmap(cm_svm, annot=True, fmt='d', cmap='Greens')\n",
        "plt.title('Confusion Matrix SVM')\n",
        "plt.xlabel('Predicted')\n",
        "plt.ylabel('Actual')\n",
        "plt.show()"
      ],
      "metadata": {
        "id": "tMq4QAssNLip",
        "colab": {
          "base_uri": "https://localhost:8080/",
          "height": 1000
        },
        "outputId": "be1cec2a-57d4-434b-a089-5343939c2b24"
      },
      "execution_count": 11,
      "outputs": [
        {
          "output_type": "stream",
          "name": "stdout",
          "text": [
            "\n",
            "🔵 Evaluasi Random Forest:\n",
            "Akurasi: 1.0000\n",
            "F1-Score: 1.0000\n",
            "Classification Report:\n",
            "              precision    recall  f1-score   support\n",
            "\n",
            "           0       1.00      1.00      1.00       249\n",
            "           1       1.00      1.00      1.00       244\n",
            "\n",
            "    accuracy                           1.00       493\n",
            "   macro avg       1.00      1.00      1.00       493\n",
            "weighted avg       1.00      1.00      1.00       493\n",
            "\n"
          ]
        },
        {
          "output_type": "display_data",
          "data": {
            "text/plain": [
              "<Figure size 800x600 with 2 Axes>"
            ],
            "image/png": "[encoded data removed]"
          },
          "metadata": {}
        },
        {
          "output_type": "stream",
          "name": "stdout",
          "text": [
            "\n",
            "🟢 Evaluasi SVM:\n",
            "Akurasi: 1.0000\n",
            "F1-Score: 1.0000\n",
            "Classification Report:\n",
            "              precision    recall  f1-score   support\n",
            "\n",
            "           0       1.00      1.00      1.00       249\n",
            "           1       1.00      1.00      1.00       244\n",
            "\n",
            "    accuracy                           1.00       493\n",
            "   macro avg       1.00      1.00      1.00       493\n",
            "weighted avg       1.00      1.00      1.00       493\n",
            "\n"
          ]
        },
        {
          "output_type": "display_data",
          "data": {
            "text/plain": [
              "<Figure size 800x600 with 2 Axes>"
            ],
            "image/png": "[encoded data removed]"
          },
          "metadata": {}
        }
      ]
    },
    {
      "cell_type": "markdown",
      "source": [
        "Tulis hasil evaluasi algoritma yang digunakan, jika Anda menggunakan 2 algoritma, maka bandingkan hasilnya."
      ],
      "metadata": {
        "id": "H4_9OwrsXZlz"
      }
    },
    {
      "cell_type": "code",
      "source": [
        "print(\"\\nPerbandingan Hasil Evaluasi:\")\n",
        "print(f\"Random Forest - Akurasi: {acc_rf:.4f}, F1-Score: {f1_rf:.4f}\")\n",
        "print(f\"SVM - Akurasi: {acc_svm:.4f}, F1-Score: {f1_svm:.4f}\")\n",
        "if acc_rf > acc_svm:\n",
        "    print(\"Random Forest lebih unggul berdasarkan akurasi dan F1-Score.\")\n",
        "else:\n",
        "    print(\"SVM lebih unggul berdasarkan akurasi dan F1-Score.\")"
      ],
      "metadata": {
        "colab": {
          "base_uri": "https://localhost:8080/"
        },
        "id": "DP3eUToXkr5K",
        "outputId": "e45bffda-8790-4ea1-cea4-b610fc0c5225"
      },
      "execution_count": 15,
      "outputs": [
        {
          "output_type": "stream",
          "name": "stdout",
          "text": [
            "\n",
            "Perbandingan Hasil Evaluasi:\n",
            "Random Forest - Akurasi: 1.0000, F1-Score: 1.0000\n",
            "SVM - Akurasi: 1.0000, F1-Score: 1.0000\n",
            "SVM lebih unggul berdasarkan akurasi dan F1-Score.\n"
          ]
        }
      ]
    },
    {
      "cell_type": "markdown",
      "source": [
        "## **c. Tuning Model Klasifikasi (Optional)**"
      ],
      "metadata": {
        "id": "ph9yIYDXEPuB"
      }
    },
    {
      "cell_type": "markdown",
      "source": [
        "Gunakan GridSearchCV, RandomizedSearchCV, atau metode lainnya untuk mencari kombinasi hyperparameter terbaik\n",
        "---\n",
        "Menggunakan GridSearchCV pada Random Forest untuk mencapai akurasi dan F1-Score ≥ 92%."
      ],
      "metadata": {
        "id": "-Bikx3LINv5e"
      }
    },
    {
      "cell_type": "code",
      "source": [
        "param_grid_rf = {\n",
        "    'n_estimators': [100, 200],\n",
        "    'max_depth': [10, 20, None],\n",
        "    'min_samples_split': [2, 5]\n",
        "}\n",
        "grid_rf = GridSearchCV(RandomForestClassifier(random_state=42), param_grid_rf, cv=5, scoring='f1_weighted', n_jobs=-1)\n",
        "grid_rf.fit(X_train_selected, y_train)\n",
        "print(\"\\n🔵 Tuning Random Forest:\")\n",
        "print(f\"Parameter terbaik: {grid_rf.best_params_}\")"
      ],
      "metadata": {
        "id": "winbFzb8NL95",
        "colab": {
          "base_uri": "https://localhost:8080/"
        },
        "outputId": "972ed877-046a-48af-cfd1-96ac75569dbb"
      },
      "execution_count": 16,
      "outputs": [
        {
          "output_type": "stream",
          "name": "stdout",
          "text": [
            "\n",
            "🔵 Tuning Random Forest:\n",
            "Parameter terbaik: {'max_depth': 10, 'min_samples_split': 2, 'n_estimators': 100}\n"
          ]
        }
      ]
    },
    {
      "cell_type": "markdown",
      "source": [
        "## **d. Evaluasi Model Klasifikasi setelah Tuning (Optional)**"
      ],
      "metadata": {
        "id": "hE7pqlEPEYzI"
      }
    },
    {
      "cell_type": "markdown",
      "source": [
        "Berikut adalah rekomendasi tahapannya.\n",
        "1. Gunakan model dengan hyperparameter terbaik.\n",
        "2. Hitung ulang metrik evaluasi untuk melihat apakah ada peningkatan performa."
      ],
      "metadata": {
        "id": "feaPESoeN0zz"
      }
    },
    {
      "cell_type": "code",
      "source": [
        "# Evaluasi Random Forest setelah Tuning\n",
        "y_pred_rf_opt = grid_rf.predict(X_test_selected)\n",
        "acc_rf_opt = accuracy_score(y_test, y_pred_rf_opt)\n",
        "f1_rf_opt = f1_score(y_test, y_pred_rf_opt, average='weighted')\n",
        "print(f\"Akurasi Random Forest (setelah tuning): {acc_rf_opt:.4f}\")\n",
        "print(f\"F1-Score Random Forest (setelah tuning): {f1_rf_opt:.4f}\")\n",
        "print(\"Classification Report setelah Tuning:\")\n",
        "print(classification_report(y_test, y_pred_rf_opt))\n",
        "\n",
        "# Confusion Matrix setelah Tuning\n",
        "cm_rf_opt = confusion_matrix(y_test, y_pred_rf_opt)\n",
        "plt.figure(figsize=(8, 6))\n",
        "sns.heatmap(cm_rf_opt, annot=True, fmt='d', cmap='Blues')\n",
        "plt.title('Confusion Matrix Random Forest (Tuned)')\n",
        "plt.xlabel('Predicted')\n",
        "plt.ylabel('Actual')\n",
        "plt.show()"
      ],
      "metadata": {
        "id": "HTXZRvEeNMb1",
        "colab": {
          "base_uri": "https://localhost:8080/",
          "height": 772
        },
        "outputId": "04d1af98-8e41-4a37-bf44-4c61c75c2518"
      },
      "execution_count": 17,
      "outputs": [
        {
          "output_type": "stream",
          "name": "stdout",
          "text": [
            "Akurasi Random Forest (setelah tuning): 1.0000\n",
            "F1-Score Random Forest (setelah tuning): 1.0000\n",
            "Classification Report setelah Tuning:\n",
            "              precision    recall  f1-score   support\n",
            "\n",
            "           0       1.00      1.00      1.00       249\n",
            "           1       1.00      1.00      1.00       244\n",
            "\n",
            "    accuracy                           1.00       493\n",
            "   macro avg       1.00      1.00      1.00       493\n",
            "weighted avg       1.00      1.00      1.00       493\n",
            "\n"
          ]
        },
        {
          "output_type": "display_data",
          "data": {
            "text/plain": [
              "<Figure size 800x600 with 2 Axes>"
            ],
            "image/png": "[encoded data removed]"
          },
          "metadata": {}
        }
      ]
    },
    {
      "cell_type": "markdown",
      "source": [
        "## **e. Analisis Hasil Evaluasi Model Klasifikasi**"
      ],
      "metadata": {
        "id": "ZRsOdm4uEgAW"
      }
    },
    {
      "cell_type": "markdown",
      "source": [
        "Berikut adalah **rekomendasi** tahapannya.\n",
        "1. Bandingkan hasil evaluasi sebelum dan setelah tuning (jika dilakukan).\n",
        "2. Identifikasi kelemahan model, seperti:\n",
        "  - Precision atau Recall rendah untuk kelas tertentu.\n",
        "  - Apakah model mengalami overfitting atau underfitting?\n",
        "3. Berikan rekomendasi tindakan lanjutan, seperti mengumpulkan data tambahan atau mencoba algoritma lain jika hasil belum memuaskan."
      ],
      "metadata": {
        "id": "Hm3BhSi6N4_l"
      }
    },
    {
      "cell_type": "code",
      "source": [
        "print(\"\\nAnalisis Hasil Evaluasi Model Klasifikasi:\")\n",
        "print(f\"Sebelum Tuning - Random Forest: Akurasi {acc_rf:.4f}, F1-Score {f1_rf:.4f}\")\n",
        "print(f\"Setelah Tuning - Random Forest: Akurasi {acc_rf_opt:.4f}, F1-Score {f1_rf_opt:.4f}\")\n",
        "print(f\"SVM: Akurasi {acc_svm:.4f}, F1-Score {f1_svm:.4f}\")\n",
        "\n",
        "# Perbandingan\n",
        "if acc_rf_opt > acc_rf:\n",
        "    print(\"Tuning meningkatkan performa Random Forest.\")\n",
        "else:\n",
        "    print(\"Tuning tidak memberikan peningkatan signifikan pada Random Forest.\")\n",
        "\n",
        "# Identifikasi Kelemahan\n",
        "print(\"\\nKelemahan Model:\")\n",
        "if f1_rf_opt < 0.92 or acc_rf_opt < 0.92:\n",
        "    print(\"- Akurasi atau F1-Score belum mencapai target 92%. Mungkin ada ketidakseimbangan kelas atau fitur kurang representatif.\")\n",
        "    print(\"- Kemungkinan overfitting jika performa pada training jauh lebih baik daripada testing.\")\n",
        "else:\n",
        "    print(\"- Tidak ada kelemahan signifikan. Model telah mencapai target performa.\")\n",
        "\n",
        "# Rekomendasi\n",
        "print(\"\\nRekomendasi Tindakan Lanjutan:\")\n",
        "if f1_rf_opt < 0.92 or acc_rf_opt < 0.92:\n",
        "    print(\"- Tambah fitur baru (misalnya CustomerAge, TransactionDuration) untuk meningkatkan variasi.\")\n",
        "    print(\"- Coba algoritma lain seperti XGBoost atau tingkatkan preprocessing (contoh: PCA).\")\n",
        "else:\n",
        "    print(\"- Model siap digunakan untuk memprediksi cluster transaksi.\")"
      ],
      "metadata": {
        "id": "3zPnmj0vb3Qv",
        "outputId": "c004f312-0009-44a5-da94-1e4636407f1d",
        "colab": {
          "base_uri": "https://localhost:8080/"
        }
      },
      "execution_count": 18,
      "outputs": [
        {
          "output_type": "stream",
          "name": "stdout",
          "text": [
            "\n",
            "Analisis Hasil Evaluasi Model Klasifikasi:\n",
            "Sebelum Tuning - Random Forest: Akurasi 1.0000, F1-Score 1.0000\n",
            "Setelah Tuning - Random Forest: Akurasi 1.0000, F1-Score 1.0000\n",
            "SVM: Akurasi 1.0000, F1-Score 1.0000\n",
            "Tuning tidak memberikan peningkatan signifikan pada Random Forest.\n",
            "\n",
            "Kelemahan Model:\n",
            "- Tidak ada kelemahan signifikan. Model telah mencapai target performa.\n",
            "\n",
            "Rekomendasi Tindakan Lanjutan:\n",
            "- Model siap digunakan untuk memprediksi cluster transaksi.\n"
          ]
        }
      ]
    }
  ]
}